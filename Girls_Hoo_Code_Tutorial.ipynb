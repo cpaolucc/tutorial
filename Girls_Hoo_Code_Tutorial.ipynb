{
 "cells": [
  {
   "cell_type": "markdown",
   "metadata": {},
   "source": [
    "# Atomic Simulation with Python"
   ]
  },
  {
   "cell_type": "markdown",
   "metadata": {},
   "source": [
    "## 1. Simulating the energetics for oxygen diffusion on platinum."
   ]
  },
  {
   "cell_type": "code",
   "execution_count": null,
   "metadata": {},
   "outputs": [],
   "source": [
    "# Calculate O diffusion Energy on a Platinum Surface\n",
    "# Let's load the python packages we will need\n",
    "from ase.build import fcc111, add_adsorbate\n",
    "from ase.constraints import FixAtoms\n",
    "from ase.calculators.emt import EMT\n",
    "from ase.optimize import QuasiNewton\n",
    "from ase.visualize import view\n",
    "\n",
    "# 4x4-Pt(111) surface with 4 layers and an\n",
    "# O atom adsorbed in a fcc-hollow site:\n",
    "slab = fcc111('Pt', size=(4, 4, 4))\n",
    "slab.center(axis=2, vacuum=4.0)\n",
    "add_adsorbate(slab, 'O', 1.25, 'fcc')\n",
    "\n",
    "# Fix second and third layers:\n",
    "mask = [atom.tag > 1 for atom in slab]\n",
    "#print(mask)\n",
    "slab.set_constraint(FixAtoms(mask=mask))\n",
    "# Use EMT potential:\n",
    "slab.set_calculator(EMT())\n",
    "\n",
    "# We are going to calculate the structure of the Initial state by minimizing\n",
    "#the forces on atoms through numerical optimization :\n",
    "qn = QuasiNewton(slab, trajectory='initial.traj')\n",
    "qn.run(fmax=0.01)\n",
    "view(slab)\n",
    "print(slab)\n",
    "\n"
   ]
  },
  {
   "cell_type": "code",
   "execution_count": null,
   "metadata": {},
   "outputs": [],
   "source": [
    "# 4x4-Pt(111) surface with 4 layers and an\n",
    "# O atom adsorbed on the other side of the surface:\n",
    "slab = fcc111('Pt', size=(4, 4, 4))\n",
    "slab.center(axis=2, vacuum=4.0)\n",
    "add_adsorbate(slab, 'O', 1.25, position=(10,6))\n",
    "\n",
    "\n",
    "# Fix second and third layers:\n",
    "mask = [atom.tag > 1 for atom in slab]\n",
    "#print(mask)\n",
    "slab.set_constraint(FixAtoms(mask=mask))\n",
    "# Use EMT potential:\n",
    "slab.set_calculator(EMT())\n",
    "\n",
    "# Final state:\n",
    "qn = QuasiNewton(slab, trajectory='final.traj')\n",
    "qn.run(fmax=0.01)\n",
    "view(slab)\n",
    "print(slab)"
   ]
  },
  {
   "cell_type": "code",
   "execution_count": null,
   "metadata": {},
   "outputs": [],
   "source": [
    "# Next we are going to take our initial and final structures and do \n",
    "#a simulation that will calculate the energy to move between them\n",
    "from ase.io import read\n",
    "from ase.constraints import FixAtoms\n",
    "from ase.calculators.emt import EMT\n",
    "from ase.neb import NEB\n",
    "from ase.optimize import BFGS\n",
    "\n",
    "initial = read('initial.traj')\n",
    "final = read('final.traj')\n",
    "\n",
    "constraint = FixAtoms(mask=[atom.tag > 1 for atom in initial])\n",
    "\n",
    "images = [initial]\n",
    "for i in range(9):\n",
    "    image = initial.copy()\n",
    "    image.set_calculator(EMT())\n",
    "    image.set_constraint(constraint)\n",
    "    images.append(image)\n",
    "\n",
    "images.append(final)\n",
    "\n",
    "neb = NEB(images)\n",
    "neb.interpolate()\n",
    "qn = BFGS(neb, trajectory='O_diffusion.traj')\n",
    "qn.run(fmax=0.01)"
   ]
  },
  {
   "cell_type": "code",
   "execution_count": null,
   "metadata": {},
   "outputs": [],
   "source": [
    "#The code below will take our simulation results and allow us to \n",
    "# visualize them\n",
    "import matplotlib.pyplot as plt\n",
    "from ase.neb import NEBTools\n",
    "from ase.io import read\n",
    "\n",
    "images = read('O_diffusion.traj@-11:')\n",
    "\n",
    "nebtools = NEBTools(images)\n",
    "\n",
    "# Get the calculated barriers and the energy change of the reaction.\n",
    "Ef, dE = nebtools.get_barrier()\n",
    "\n",
    "# Get the barriers without any interpolation between highest images.\n",
    "Ef, dE = nebtools.get_barrier(fit=False)\n",
    "\n",
    "# Get the actual maximum force at this point in the simulation.\n",
    "max_force = nebtools.get_fmax()\n",
    "\n",
    "# Create a figure.\n",
    "fig = nebtools.plot_band()\n",
    "fig.savefig('diffusion-barrier.png')\n",
    "\n",
    "view(images)"
   ]
  },
  {
   "cell_type": "markdown",
   "metadata": {},
   "source": [
    "## 2. Simulating the energetics for dioxygen dissociation and diffusion on platinum."
   ]
  },
  {
   "cell_type": "code",
   "execution_count": null,
   "metadata": {},
   "outputs": [],
   "source": [
    "# 4x4-Pt(111) surface with 4 layers and an\n",
    "# O2 molecule adsorbed in a fcc-hollow site:\n",
    "slab = fcc111('Pt', size=(4, 4, 4))\n",
    "slab.center(axis=2, vacuum=4.0)\n",
    "add_adsorbate(slab, 'O', 1.25, 'fcc')\n",
    "add_adsorbate(slab, 'O', 2.45, 'fcc')\n",
    "\n",
    "# Fix second and third layers:\n",
    "mask = [atom.tag > 1 for atom in slab]\n",
    "#print(mask)\n",
    "slab.set_constraint(FixAtoms(mask=mask))\n",
    "# Use EMT potential:\n",
    "slab.set_calculator(EMT())\n",
    "\n",
    "# Initial state:\n",
    "qn = QuasiNewton(slab, trajectory='initial.traj')\n",
    "qn.run(fmax=0.01)\n",
    "view(slab)\n",
    "print(slab)"
   ]
  },
  {
   "cell_type": "code",
   "execution_count": null,
   "metadata": {},
   "outputs": [],
   "source": [
    "# 4x4-Pt(111) surface with 4 layers and an\n",
    "# 2 O atoms adsorbed:\n",
    "slab = fcc111('Pt', size=(4, 4, 4))\n",
    "slab.center(axis=2, vacuum=4.0)\n",
    "add_adsorbate(slab, 'O', 1.25, 'fcc')\n",
    "add_adsorbate(slab, 'O', 1.25, position=(10,6))\n",
    "\n",
    "\n",
    "\n",
    "\n",
    "# Fix second and third layers:\n",
    "mask = [atom.tag > 1 for atom in slab]\n",
    "#print(mask)\n",
    "slab.set_constraint(FixAtoms(mask=mask))\n",
    "# Use EMT potential:\n",
    "slab.set_calculator(EMT())\n",
    "\n",
    "# Initial state:\n",
    "qn = QuasiNewton(slab, trajectory='final.traj')\n",
    "qn.run(fmax=0.01)\n",
    "view(slab)\n",
    "print(slab)"
   ]
  },
  {
   "cell_type": "code",
   "execution_count": null,
   "metadata": {},
   "outputs": [],
   "source": [
    "initial = read('initial.traj')\n",
    "final = read('final.traj')\n",
    "\n",
    "constraint = FixAtoms(mask=[atom.tag > 1 for atom in initial])\n",
    "\n",
    "images = [initial]\n",
    "for i in range(11):\n",
    "    image = initial.copy()\n",
    "    image.set_calculator(EMT())\n",
    "    image.set_constraint(constraint)\n",
    "    images.append(image)\n",
    "\n",
    "images.append(final)\n",
    "\n",
    "neb = NEB(images)\n",
    "neb.interpolate()\n",
    "qn = BFGS(neb, trajectory='O2_dissociation.traj')\n",
    "qn.run(fmax=0.1)"
   ]
  },
  {
   "cell_type": "code",
   "execution_count": null,
   "metadata": {
    "scrolled": true
   },
   "outputs": [],
   "source": [
    "images = read('O2_dissociation.traj@-13:')\n",
    "\n",
    "nebtools = NEBTools(images)\n",
    "\n",
    "# Get the calculated barrier and the energy change of the reaction.\n",
    "Ef, dE = nebtools.get_barrier()\n",
    "\n",
    "# Get the barrier without any interpolation between highest images.\n",
    "Ef, dE = nebtools.get_barrier(fit=False)\n",
    "\n",
    "# Get the actual maximum force at this point in the simulation.\n",
    "max_force = nebtools.get_fmax()\n",
    "\n",
    "# Create a figure like that coming from ASE-GUI.\n",
    "fig = nebtools.plot_band()\n",
    "fig.savefig('diffusion-barrier.png')\n",
    "# To view movie with ase gui $ase gui neb.traj@-5:\n",
    "# Then use NEB tools\n",
    "\n",
    "view(images)"
   ]
  },
  {
   "cell_type": "markdown",
   "metadata": {},
   "source": [
    "## Molecular Dynamics Simulation of dioxygen on platinum"
   ]
  },
  {
   "cell_type": "code",
   "execution_count": null,
   "metadata": {},
   "outputs": [],
   "source": [
    "from ase.lattice.cubic import FaceCenteredCubic\n",
    "from ase.md.langevin import Langevin\n",
    "from ase.io.trajectory import Trajectory\n",
    "from ase import units\n",
    "from ase.md.velocitydistribution import (MaxwellBoltzmannDistribution, Stationary)\n",
    "\n",
    "\n",
    "T = 200  # Kelvin\n",
    "slab = read('initial.traj')\n",
    "slab.set_constraint()\n",
    "\n",
    "slab.set_calculator(EMT())\n",
    "MaxwellBoltzmannDistribution(slab, temperature_K=100)\n",
    "Stationary(slab)  # zero linear momentum\n",
    "\n",
    "# We want to run MD with constant energy using the Langevin algorithm\n",
    "# with a time step of 5 fs, the temperature T and the friction\n",
    "# coefficient to 0.02 atomic units.\n",
    "dyn = Langevin(slab, 5 * units.fs, T * units.kB, 0.002)\n",
    "\n",
    "\n",
    "def printenergy(a=slab):  # store a reference to atoms in the definition.\n",
    "    \"\"\"Function to print the potential, kinetic and total energy.\"\"\"\n",
    "    epot = a.get_potential_energy() / len(a)\n",
    "    ekin = a.get_kinetic_energy() / len(a)\n",
    "    print('Energy per atom: Epot = %.3feV  Ekin = %.3feV (T=%3.0fK)  '\n",
    "          'Etot = %.3feV' % (epot, ekin, ekin / (1.5 * units.kB), epot + ekin))\n",
    "\n",
    "\n",
    "dyn.attach(printenergy, interval=10)\n",
    "\n",
    "# We also want to save the positions of all atoms after every 100th time step.\n",
    "traj = Trajectory('moldyn.traj', 'w', slab)\n",
    "dyn.attach(traj.write, interval=1)\n",
    "\n",
    "# Now run the dynamics\n",
    "printenergy()\n",
    "dyn.run(1000)"
   ]
  },
  {
   "cell_type": "code",
   "execution_count": null,
   "metadata": {},
   "outputs": [],
   "source": [
    "images = read('moldyn.traj',':')\n",
    "view(images)"
   ]
  },
  {
   "cell_type": "markdown",
   "metadata": {},
   "source": [
    "## 3. CO Oxidation"
   ]
  },
  {
   "cell_type": "code",
   "execution_count": null,
   "metadata": {},
   "outputs": [],
   "source": [
    "# Generate structure with O2 and CO\n",
    "slab = fcc111('Pt', size=(4, 4, 4))\n",
    "slab.center(axis=2, vacuum=4.0)\n",
    "add_adsorbate(slab, 'O', 1.25, 'fcc')\n",
    "add_adsorbate(slab, 'O', 2.45, 'fcc')\n",
    "add_adsorbate(slab, 'C', 1.25, position=(9.5,5.5))\n",
    "add_adsorbate(slab, 'O', 2.25, position=(9.5,5.5))\n",
    "\n",
    "\n",
    "\n",
    "\n",
    "# Fix second and third layers:\n",
    "mask = [atom.tag > 1 for atom in slab]\n",
    "#print(mask)\n",
    "slab.set_constraint(FixAtoms(mask=mask))\n",
    "# Use EMT potential:\n",
    "slab.set_calculator(EMT())\n",
    "\n",
    "# Initial state:\n",
    "qn = QuasiNewton(slab, trajectory='initial.traj')\n",
    "qn.run(fmax=0.01)\n",
    "view(slab)\n",
    "print(slab)"
   ]
  },
  {
   "cell_type": "code",
   "execution_count": null,
   "metadata": {},
   "outputs": [],
   "source": [
    "# Run MD\n",
    "T = 250  # Kelvin\n",
    "slab = read('initial.traj')\n",
    "slab.set_constraint()\n",
    "\n",
    "slab.set_calculator(EMT())\n",
    "MaxwellBoltzmannDistribution(slab, temperature_K=200)\n",
    "Stationary(slab)  # zero linear momentum\n",
    "\n",
    "\n",
    "# We want to run MD with constant energy using the Langevin algorithm\n",
    "# with a time step of 5 fs, the temperature T and the friction\n",
    "# coefficient to 0.02 atomic units.\n",
    "dyn = Langevin(slab, 5 * units.fs, T * units.kB, 0.002)\n",
    "\n",
    "\n",
    "def printenergy(a=slab):  # store a reference to atoms in the definition.\n",
    "    \"\"\"Function to print the potential, kinetic and total energy.\"\"\"\n",
    "    epot = a.get_potential_energy() / len(a)\n",
    "    ekin = a.get_kinetic_energy() / len(a)\n",
    "    print('Energy per atom: Epot = %.3feV  Ekin = %.3feV (T=%3.0fK)  '\n",
    "          'Etot = %.3feV' % (epot, ekin, ekin / (1.5 * units.kB), epot + ekin))\n",
    "\n",
    "\n",
    "dyn.attach(printenergy, interval=10)\n",
    "\n",
    "# We also want to save the positions of all atoms after every 100th time step.\n",
    "traj = Trajectory('moldyn.traj', 'w', slab)\n",
    "dyn.attach(traj.write, interval=1)\n",
    "\n",
    "# Now run the dynamics\n",
    "printenergy()\n",
    "dyn.run(1000)"
   ]
  },
  {
   "cell_type": "code",
   "execution_count": null,
   "metadata": {},
   "outputs": [],
   "source": [
    "images = read('moldyn.traj',':')\n",
    "view(images)"
   ]
  },
  {
   "cell_type": "code",
   "execution_count": null,
   "metadata": {},
   "outputs": [],
   "source": []
  }
 ],
 "metadata": {
  "kernelspec": {
   "display_name": "Python 3",
   "language": "python",
   "name": "python3"
  },
  "language_info": {
   "codemirror_mode": {
    "name": "ipython",
    "version": 3
   },
   "file_extension": ".py",
   "mimetype": "text/x-python",
   "name": "python",
   "nbconvert_exporter": "python",
   "pygments_lexer": "ipython3",
   "version": "3.8.3"
  }
 },
 "nbformat": 4,
 "nbformat_minor": 2
}
