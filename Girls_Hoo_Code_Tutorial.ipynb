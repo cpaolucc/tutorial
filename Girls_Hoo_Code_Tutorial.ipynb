{
 "cells": [
  {
   "cell_type": "markdown",
   "metadata": {},
   "source": [
    "# Atomic Simulation with Python"
   ]
  },
  {
   "cell_type": "markdown",
   "metadata": {},
   "source": [
    "## 1. Simulating the energetics for oxygen diffusion on platinum."
   ]
  },
  {
   "cell_type": "code",
   "execution_count": 1,
   "metadata": {},
   "outputs": [
    {
     "name": "stdout",
     "output_type": "stream",
     "text": [
      "                Step[ FC]     Time          Energy          fmax\n",
      "*Force-consistent energies used in optimization.\n",
      "BFGSLineSearch:    0[  0] 10:53:06       11.762135*       7.9142\n",
      "BFGSLineSearch:    1[  1] 10:53:06       10.214278*       1.0067\n",
      "BFGSLineSearch:    2[  2] 10:53:07       10.068021*       0.4397\n",
      "BFGSLineSearch:    3[  3] 10:53:07       10.025537*       0.1694\n",
      "BFGSLineSearch:    4[  5] 10:53:07       10.013598*       0.0485\n",
      "BFGSLineSearch:    5[  6] 10:53:07       10.012578*       0.0052\n",
      "Atoms(symbols='OPt64', pbc=[True, True, False], cell=[[11.087434329005065, 0.0, 0.0], [5.5437171645025325, 9.601999791710057, 0.0], [0.0, 0.0, 14.78963916567]], tags=..., constraint=FixAtoms(indices=[0, 1, 2, 3, 4, 5, 6, 7, 8, 9, 10, 11, 12, 13, 14, 15, 16, 17, 18, 19, 20, 21, 22, 23, 24, 25, 26, 27, 28, 29, 30, 31, 32, 33, 34, 35, 36, 37, 38, 39, 40, 41, 42, 43, 44, 45, 46, 47]), calculator=EMT(...))\n"
     ]
    }
   ],
   "source": [
    "# Calculate O diffusion Energy on a Platinum Surface\n",
    "# Let's load the python packages we will need\n",
    "from ase.build import fcc111, add_adsorbate\n",
    "from ase.constraints import FixAtoms\n",
    "from ase.calculators.emt import EMT\n",
    "from ase.optimize import QuasiNewton\n",
    "from ase.visualize import view\n",
    "\n",
    "# 4x4-Pt(111) surface with 4 layers and an\n",
    "# O atom adsorbed in a fcc-hollow site:\n",
    "slab = fcc111('Pt', size=(4, 4, 4))\n",
    "slab.center(axis=2, vacuum=4.0)\n",
    "add_adsorbate(slab, 'O', 1.25, 'fcc')\n",
    "\n",
    "# Fix second and third layers:\n",
    "mask = [atom.tag > 1 for atom in slab]\n",
    "#print(mask)\n",
    "slab.set_constraint(FixAtoms(mask=mask))\n",
    "# Use EMT potential:\n",
    "slab.set_calculator(EMT())\n",
    "\n",
    "# We are going to calculate the structure of the Initial state by minimizing\n",
    "#the forces on atoms through numerical optimization :\n",
    "qn = QuasiNewton(slab, trajectory='initial.traj')\n",
    "qn.run(fmax=0.01)\n",
    "view(slab)\n",
    "print(slab)\n",
    "\n"
   ]
  },
  {
   "cell_type": "code",
   "execution_count": 2,
   "metadata": {},
   "outputs": [
    {
     "name": "stdout",
     "output_type": "stream",
     "text": [
      "                Step[ FC]     Time          Energy          fmax\n",
      "*Force-consistent energies used in optimization.\n",
      "BFGSLineSearch:    0[  0] 10:53:10       12.931905*      13.8177\n",
      "BFGSLineSearch:    1[  1] 10:53:10       10.374012*       1.9868\n",
      "BFGSLineSearch:    2[  2] 10:53:11       10.123256*       0.6328\n",
      "BFGSLineSearch:    3[  3] 10:53:11       10.060169*       0.2316\n",
      "BFGSLineSearch:    4[  4] 10:53:11       10.040064*       0.1340\n",
      "BFGSLineSearch:    5[  5] 10:53:11       10.034029*       0.1065\n",
      "BFGSLineSearch:    6[  6] 10:53:11       10.032282*       0.0932\n",
      "BFGSLineSearch:    7[  8] 10:53:11       10.029925*       0.1004\n",
      "BFGSLineSearch:    8[ 11] 10:53:11       10.020775*       0.0896\n",
      "BFGSLineSearch:    9[ 13] 10:53:11       10.017212*       0.0879\n",
      "BFGSLineSearch:   10[ 15] 10:53:12       10.014909*       0.0400\n",
      "BFGSLineSearch:   11[ 16] 10:53:12       10.014429*       0.0557\n",
      "BFGSLineSearch:   12[ 17] 10:53:12       10.013993*       0.0446\n",
      "BFGSLineSearch:   13[ 19] 10:53:12       10.013540*       0.0377\n",
      "BFGSLineSearch:   14[ 21] 10:53:12       10.012964*       0.0228\n",
      "BFGSLineSearch:   15[ 23] 10:53:12       10.012675*       0.0147\n",
      "BFGSLineSearch:   16[ 25] 10:53:12       10.012589*       0.0085\n",
      "Atoms(symbols='OPt64', pbc=[True, True, False], cell=[[11.087434329005065, 0.0, 0.0], [5.5437171645025325, 9.601999791710057, 0.0], [0.0, 0.0, 14.78963916567]], tags=..., constraint=FixAtoms(indices=[0, 1, 2, 3, 4, 5, 6, 7, 8, 9, 10, 11, 12, 13, 14, 15, 16, 17, 18, 19, 20, 21, 22, 23, 24, 25, 26, 27, 28, 29, 30, 31, 32, 33, 34, 35, 36, 37, 38, 39, 40, 41, 42, 43, 44, 45, 46, 47]), calculator=EMT(...))\n"
     ]
    }
   ],
   "source": [
    "# 4x4-Pt(111) surface with 4 layers and an\n",
    "# O atom adsorbed on the other side of the surface:\n",
    "slab = fcc111('Pt', size=(4, 4, 4))\n",
    "slab.center(axis=2, vacuum=4.0)\n",
    "add_adsorbate(slab, 'O', 1.25, position=(10,6))\n",
    "\n",
    "\n",
    "# Fix second and third layers:\n",
    "mask = [atom.tag > 1 for atom in slab]\n",
    "#print(mask)\n",
    "slab.set_constraint(FixAtoms(mask=mask))\n",
    "# Use EMT potential:\n",
    "slab.set_calculator(EMT())\n",
    "\n",
    "# Final state:\n",
    "qn = QuasiNewton(slab, trajectory='final.traj')\n",
    "qn.run(fmax=0.01)\n",
    "view(slab)\n",
    "print(slab)"
   ]
  },
  {
   "cell_type": "code",
   "execution_count": 3,
   "metadata": {},
   "outputs": [
    {
     "name": "stdout",
     "output_type": "stream",
     "text": [
      "      Step     Time          Energy         fmax\n",
      "BFGS:    0 10:53:17       11.952573       13.5480\n",
      "BFGS:    1 10:53:18       10.341315        2.7738\n",
      "BFGS:    2 10:53:19       10.262182        1.5808\n",
      "BFGS:    3 10:53:20       10.222886        1.0025\n",
      "BFGS:    4 10:53:21       10.210267        0.9198\n",
      "BFGS:    5 10:53:22       10.168778        0.2810\n",
      "BFGS:    6 10:53:23       10.165129        0.2286\n",
      "BFGS:    7 10:53:24       10.163920        0.1175\n",
      "BFGS:    8 10:53:25       10.163112        0.0757\n",
      "BFGS:    9 10:53:26       10.162314        0.0838\n",
      "BFGS:   10 10:53:27       10.161827        0.0826\n",
      "BFGS:   11 10:53:28       10.161634        0.0658\n",
      "BFGS:   12 10:53:28       10.161567        0.0314\n",
      "BFGS:   13 10:53:29       10.161544        0.0140\n",
      "BFGS:   14 10:53:30       10.161530        0.0185\n",
      "BFGS:   15 10:53:31       10.161503        0.0283\n",
      "BFGS:   16 10:53:32       10.161466        0.0238\n",
      "BFGS:   17 10:53:33       10.161439        0.0100\n"
     ]
    },
    {
     "data": {
      "text/plain": [
       "True"
      ]
     },
     "execution_count": 3,
     "metadata": {},
     "output_type": "execute_result"
    }
   ],
   "source": [
    "# Next we are going to take our initial and final structures and do \n",
    "#a simulation that will calculate the energy to move between them\n",
    "from ase.io import read\n",
    "from ase.constraints import FixAtoms\n",
    "from ase.calculators.emt import EMT\n",
    "from ase.neb import NEB\n",
    "from ase.optimize import BFGS\n",
    "\n",
    "initial = read('initial.traj')\n",
    "final = read('final.traj')\n",
    "\n",
    "constraint = FixAtoms(mask=[atom.tag > 1 for atom in initial])\n",
    "\n",
    "images = [initial]\n",
    "for i in range(9):\n",
    "    image = initial.copy()\n",
    "    image.set_calculator(EMT())\n",
    "    image.set_constraint(constraint)\n",
    "    images.append(image)\n",
    "\n",
    "images.append(final)\n",
    "\n",
    "neb = NEB(images)\n",
    "neb.interpolate()\n",
    "qn = BFGS(neb, trajectory='O_diffusion.traj')\n",
    "qn.run(fmax=0.01)"
   ]
  },
  {
   "cell_type": "code",
   "execution_count": 4,
   "metadata": {},
   "outputs": [
    {
     "data": {
      "text/plain": [
       "<subprocess.Popen at 0x7fa3f949beb0>"
      ]
     },
     "execution_count": 4,
     "metadata": {},
     "output_type": "execute_result"
    },
    {
     "data": {
      "image/png": "[encoded data removed]",
      "text/plain": [
       "<Figure size 432x288 with 1 Axes>"
      ]
     },
     "metadata": {
      "needs_background": "light"
     },
     "output_type": "display_data"
    }
   ],
   "source": [
    "#The code below will take our simulation results and allow us to \n",
    "# visualize them\n",
    "import matplotlib.pyplot as plt\n",
    "from ase.neb import NEBTools\n",
    "from ase.io import read\n",
    "\n",
    "images = read('O_diffusion.traj@-11:')\n",
    "\n",
    "nebtools = NEBTools(images)\n",
    "\n",
    "# Get the calculated barriers and the energy change of the reaction.\n",
    "Ef, dE = nebtools.get_barrier()\n",
    "\n",
    "# Get the barriers without any interpolation between highest images.\n",
    "Ef, dE = nebtools.get_barrier(fit=False)\n",
    "\n",
    "# Get the actual maximum force at this point in the simulation.\n",
    "max_force = nebtools.get_fmax()\n",
    "\n",
    "# Create a figure.\n",
    "fig = nebtools.plot_band()\n",
    "fig.savefig('diffusion-barrier.png')\n",
    "\n",
    "view(images)"
   ]
  },
  {
   "cell_type": "markdown",
   "metadata": {},
   "source": [
    "## 2. Simulating the energetics for dioxygen dissociation and diffusion on platinum."
   ]
  },
  {
   "cell_type": "code",
   "execution_count": 5,
   "metadata": {},
   "outputs": [
    {
     "name": "stdout",
     "output_type": "stream",
     "text": [
      "                Step[ FC]     Time          Energy          fmax\n",
      "*Force-consistent energies used in optimization.\n",
      "BFGSLineSearch:    0[  0] 10:53:58       12.826482*       6.0757\n",
      "BFGSLineSearch:    1[  1] 10:53:58       11.232287*       4.3166\n",
      "BFGSLineSearch:    2[  3] 10:53:58       10.928994*       1.0228\n",
      "BFGSLineSearch:    3[  4] 10:53:58       10.756724*       0.8551\n",
      "BFGSLineSearch:    4[  6] 10:53:58       10.599909*       0.3490\n",
      "BFGSLineSearch:    5[  8] 10:53:58       10.517503*       0.1725\n",
      "BFGSLineSearch:    6[  9] 10:53:58       10.511611*       0.1282\n",
      "BFGSLineSearch:    7[ 10] 10:53:58       10.509274*       0.1117\n",
      "BFGSLineSearch:    8[ 11] 10:53:58       10.508337*       0.0590\n",
      "BFGSLineSearch:    9[ 12] 10:53:59       10.508029*       0.0087\n",
      "Atoms(symbols='O2Pt64', pbc=[True, True, False], cell=[[11.087434329005065, 0.0, 0.0], [5.5437171645025325, 9.601999791710057, 0.0], [0.0, 0.0, 14.78963916567]], tags=..., constraint=FixAtoms(indices=[0, 1, 2, 3, 4, 5, 6, 7, 8, 9, 10, 11, 12, 13, 14, 15, 16, 17, 18, 19, 20, 21, 22, 23, 24, 25, 26, 27, 28, 29, 30, 31, 32, 33, 34, 35, 36, 37, 38, 39, 40, 41, 42, 43, 44, 45, 46, 47]), calculator=EMT(...))\n"
     ]
    }
   ],
   "source": [
    "# 4x4-Pt(111) surface with 4 layers and an\n",
    "# O2 molecule adsorbed in a fcc-hollow site:\n",
    "slab = fcc111('Pt', size=(4, 4, 4))\n",
    "slab.center(axis=2, vacuum=4.0)\n",
    "add_adsorbate(slab, 'O', 1.25, 'fcc')\n",
    "add_adsorbate(slab, 'O', 2.45, 'fcc')\n",
    "\n",
    "# Fix second and third layers:\n",
    "mask = [atom.tag > 1 for atom in slab]\n",
    "#print(mask)\n",
    "slab.set_constraint(FixAtoms(mask=mask))\n",
    "# Use EMT potential:\n",
    "slab.set_calculator(EMT())\n",
    "\n",
    "# Initial state:\n",
    "qn = QuasiNewton(slab, trajectory='initial.traj')\n",
    "qn.run(fmax=0.01)\n",
    "view(slab)\n",
    "print(slab)"
   ]
  },
  {
   "cell_type": "code",
   "execution_count": 6,
   "metadata": {},
   "outputs": [
    {
     "name": "stdout",
     "output_type": "stream",
     "text": [
      "                Step[ FC]     Time          Energy          fmax\n",
      "*Force-consistent energies used in optimization.\n",
      "BFGSLineSearch:    0[  0] 10:54:02       14.389340*      13.8178\n",
      "BFGSLineSearch:    1[  1] 10:54:02       10.668099*       3.3870\n",
      "BFGSLineSearch:    2[  2] 10:54:02       10.276697*       2.3372\n",
      "BFGSLineSearch:    3[  3] 10:54:02        9.988974*       0.4510\n",
      "BFGSLineSearch:    4[  4] 10:54:02        9.943047*       0.1645\n",
      "BFGSLineSearch:    5[  5] 10:54:02        9.928651*       0.1035\n",
      "BFGSLineSearch:    6[  6] 10:54:02        9.926419*       0.0953\n",
      "BFGSLineSearch:    7[  8] 10:54:02        9.924158*       0.0938\n",
      "BFGSLineSearch:    8[ 10] 10:54:02        9.917130*       0.0998\n",
      "BFGSLineSearch:    9[ 11] 10:54:02        9.913076*       0.1193\n",
      "BFGSLineSearch:   10[ 13] 10:54:03        9.910037*       0.0626\n",
      "BFGSLineSearch:   11[ 15] 10:54:03        9.908081*       0.0561\n",
      "BFGSLineSearch:   12[ 17] 10:54:03        9.907226*       0.0372\n",
      "BFGSLineSearch:   13[ 18] 10:54:03        9.906851*       0.0577\n",
      "BFGSLineSearch:   14[ 20] 10:54:03        9.906103*       0.0491\n",
      "BFGSLineSearch:   15[ 22] 10:54:03        9.905505*       0.0145\n",
      "BFGSLineSearch:   16[ 24] 10:54:03        9.905295*       0.0082\n",
      "Atoms(symbols='O2Pt64', pbc=[True, True, False], cell=[[11.087434329005065, 0.0, 0.0], [5.5437171645025325, 9.601999791710057, 0.0], [0.0, 0.0, 14.78963916567]], tags=..., constraint=FixAtoms(indices=[0, 1, 2, 3, 4, 5, 6, 7, 8, 9, 10, 11, 12, 13, 14, 15, 16, 17, 18, 19, 20, 21, 22, 23, 24, 25, 26, 27, 28, 29, 30, 31, 32, 33, 34, 35, 36, 37, 38, 39, 40, 41, 42, 43, 44, 45, 46, 47]), calculator=EMT(...))\n"
     ]
    }
   ],
   "source": [
    "# 4x4-Pt(111) surface with 4 layers and an\n",
    "# 2 O atoms adsorbed:\n",
    "slab = fcc111('Pt', size=(4, 4, 4))\n",
    "slab.center(axis=2, vacuum=4.0)\n",
    "add_adsorbate(slab, 'O', 1.25, 'fcc')\n",
    "add_adsorbate(slab, 'O', 1.25, position=(10,6))\n",
    "\n",
    "\n",
    "\n",
    "\n",
    "# Fix second and third layers:\n",
    "mask = [atom.tag > 1 for atom in slab]\n",
    "#print(mask)\n",
    "slab.set_constraint(FixAtoms(mask=mask))\n",
    "# Use EMT potential:\n",
    "slab.set_calculator(EMT())\n",
    "\n",
    "# Initial state:\n",
    "qn = QuasiNewton(slab, trajectory='final.traj')\n",
    "qn.run(fmax=0.01)\n",
    "view(slab)\n",
    "print(slab)"
   ]
  },
  {
   "cell_type": "code",
   "execution_count": 7,
   "metadata": {},
   "outputs": [
    {
     "name": "stdout",
     "output_type": "stream",
     "text": [
      "      Step     Time          Energy         fmax\n",
      "BFGS:    0 10:54:11       12.506708        3.3370\n",
      "BFGS:    1 10:54:13       12.265063        3.4701\n",
      "BFGS:    2 10:54:14       11.398039        3.1177\n",
      "BFGS:    3 10:54:16       10.937513        6.9858\n",
      "BFGS:    4 10:54:17       10.811866        2.8276\n",
      "BFGS:    5 10:54:19       10.639856        2.3322\n",
      "BFGS:    6 10:54:20       10.496119        1.9243\n",
      "BFGS:    7 10:54:21       10.481861        0.7950\n",
      "BFGS:    8 10:54:23       10.476123        0.6217\n",
      "BFGS:    9 10:54:24       10.486527        0.7906\n",
      "BFGS:   10 10:54:25       10.485097        0.7759\n",
      "BFGS:   11 10:54:27       10.472334        0.6213\n",
      "BFGS:   12 10:54:28       10.469354        0.5232\n",
      "BFGS:   13 10:54:29       10.470079        0.4732\n",
      "BFGS:   14 10:54:31       10.469679        0.4413\n",
      "BFGS:   15 10:54:32       10.467239        0.4203\n",
      "BFGS:   16 10:54:33       10.465488        0.3822\n",
      "BFGS:   17 10:54:35       10.464848        0.3854\n",
      "BFGS:   18 10:54:36       10.463929        0.3708\n",
      "BFGS:   19 10:54:37       10.462500        0.3396\n",
      "BFGS:   20 10:54:39       10.460437        0.3354\n",
      "BFGS:   21 10:54:40       10.458520        0.2901\n",
      "BFGS:   22 10:54:41       10.456792        0.2120\n",
      "BFGS:   23 10:54:43       10.455504        0.2273\n",
      "BFGS:   24 10:54:44       10.454611        0.2475\n",
      "BFGS:   25 10:54:45       10.453665        0.2285\n",
      "BFGS:   26 10:54:47       10.451679        0.2102\n",
      "BFGS:   27 10:54:48       10.449300        0.1481\n",
      "BFGS:   28 10:54:49       10.448028        0.1159\n",
      "BFGS:   29 10:54:50       10.447403        0.1027\n",
      "BFGS:   30 10:54:52       10.446597        0.1334\n",
      "BFGS:   31 10:54:53       10.445405        0.1205\n",
      "BFGS:   32 10:54:54       10.443775        0.1161\n",
      "BFGS:   33 10:54:56       10.442767        0.0749\n"
     ]
    },
    {
     "data": {
      "text/plain": [
       "True"
      ]
     },
     "execution_count": 7,
     "metadata": {},
     "output_type": "execute_result"
    }
   ],
   "source": [
    "initial = read('initial.traj')\n",
    "final = read('final.traj')\n",
    "\n",
    "constraint = FixAtoms(mask=[atom.tag > 1 for atom in initial])\n",
    "\n",
    "images = [initial]\n",
    "for i in range(11):\n",
    "    image = initial.copy()\n",
    "    image.set_calculator(EMT())\n",
    "    image.set_constraint(constraint)\n",
    "    images.append(image)\n",
    "\n",
    "images.append(final)\n",
    "\n",
    "neb = NEB(images)\n",
    "neb.interpolate()\n",
    "qn = BFGS(neb, trajectory='O2_dissociation.traj')\n",
    "qn.run(fmax=0.1)"
   ]
  },
  {
   "cell_type": "code",
   "execution_count": 8,
   "metadata": {
    "scrolled": true
   },
   "outputs": [
    {
     "data": {
      "text/plain": [
       "<subprocess.Popen at 0x7fa428471250>"
      ]
     },
     "execution_count": 8,
     "metadata": {},
     "output_type": "execute_result"
    },
    {
     "data": {
      "image/png": "[encoded data removed]",
      "text/plain": [
       "<Figure size 432x288 with 1 Axes>"
      ]
     },
     "metadata": {
      "needs_background": "light"
     },
     "output_type": "display_data"
    }
   ],
   "source": [
    "images = read('O2_dissociation.traj@-13:')\n",
    "\n",
    "nebtools = NEBTools(images)\n",
    "\n",
    "# Get the calculated barrier and the energy change of the reaction.\n",
    "Ef, dE = nebtools.get_barrier()\n",
    "\n",
    "# Get the barrier without any interpolation between highest images.\n",
    "Ef, dE = nebtools.get_barrier(fit=False)\n",
    "\n",
    "# Get the actual maximum force at this point in the simulation.\n",
    "max_force = nebtools.get_fmax()\n",
    "\n",
    "# Create a figure like that coming from ASE-GUI.\n",
    "fig = nebtools.plot_band()\n",
    "fig.savefig('diffusion-barrier.png')\n",
    "# To view movie with ase gui $ase gui neb.traj@-5:\n",
    "# Then use NEB tools\n",
    "\n",
    "view(images)"
   ]
  },
  {
   "cell_type": "markdown",
   "metadata": {},
   "source": [
    "## Molecular Dynamics Simulation of dioxygen on platinum"
   ]
  },
  {
   "cell_type": "code",
   "execution_count": 9,
   "metadata": {},
   "outputs": [
    {
     "name": "stderr",
     "output_type": "stream",
     "text": [
      "/opt/anaconda3/lib/python3.8/site-packages/ase/md/md.py:48: FutureWarning: Specify the temperature in K using the 'temperature_K' argument\n",
      "  warnings.warn(FutureWarning(w))\n"
     ]
    },
    {
     "name": "stdout",
     "output_type": "stream",
     "text": [
      "Energy per atom: Epot = 0.159eV  Ekin = 0.029eV (T=223K)  Etot = 0.188eV\n",
      "Energy per atom: Epot = 0.159eV  Ekin = 0.029eV (T=223K)  Etot = 0.188eV\n",
      "Energy per atom: Epot = 0.176eV  Ekin = 0.014eV (T=105K)  Etot = 0.189eV\n",
      "Energy per atom: Epot = 0.178eV  Ekin = 0.011eV (T= 87K)  Etot = 0.189eV\n",
      "Energy per atom: Epot = 0.172eV  Ekin = 0.017eV (T=134K)  Etot = 0.189eV\n",
      "Energy per atom: Epot = 0.168eV  Ekin = 0.020eV (T=156K)  Etot = 0.189eV\n",
      "Energy per atom: Epot = 0.167eV  Ekin = 0.021eV (T=162K)  Etot = 0.188eV\n",
      "Energy per atom: Epot = 0.168eV  Ekin = 0.021eV (T=163K)  Etot = 0.189eV\n",
      "Energy per atom: Epot = 0.173eV  Ekin = 0.016eV (T=121K)  Etot = 0.189eV\n",
      "Energy per atom: Epot = 0.165eV  Ekin = 0.025eV (T=193K)  Etot = 0.190eV\n",
      "Energy per atom: Epot = 0.169eV  Ekin = 0.021eV (T=159K)  Etot = 0.190eV\n",
      "Energy per atom: Epot = 0.169eV  Ekin = 0.021eV (T=163K)  Etot = 0.190eV\n",
      "Energy per atom: Epot = 0.166eV  Ekin = 0.024eV (T=183K)  Etot = 0.190eV\n",
      "Energy per atom: Epot = 0.170eV  Ekin = 0.021eV (T=160K)  Etot = 0.191eV\n",
      "Energy per atom: Epot = 0.167eV  Ekin = 0.023eV (T=181K)  Etot = 0.190eV\n",
      "Energy per atom: Epot = 0.173eV  Ekin = 0.018eV (T=142K)  Etot = 0.191eV\n",
      "Energy per atom: Epot = 0.169eV  Ekin = 0.022eV (T=172K)  Etot = 0.192eV\n",
      "Energy per atom: Epot = 0.163eV  Ekin = 0.029eV (T=221K)  Etot = 0.192eV\n",
      "Energy per atom: Epot = 0.172eV  Ekin = 0.020eV (T=155K)  Etot = 0.192eV\n",
      "Energy per atom: Epot = 0.169eV  Ekin = 0.022eV (T=173K)  Etot = 0.191eV\n",
      "Energy per atom: Epot = 0.172eV  Ekin = 0.021eV (T=160K)  Etot = 0.192eV\n",
      "Energy per atom: Epot = 0.170eV  Ekin = 0.023eV (T=179K)  Etot = 0.193eV\n",
      "Energy per atom: Epot = 0.167eV  Ekin = 0.026eV (T=200K)  Etot = 0.193eV\n",
      "Energy per atom: Epot = 0.173eV  Ekin = 0.020eV (T=154K)  Etot = 0.193eV\n",
      "Energy per atom: Epot = 0.170eV  Ekin = 0.023eV (T=174K)  Etot = 0.193eV\n",
      "Energy per atom: Epot = 0.171eV  Ekin = 0.022eV (T=173K)  Etot = 0.193eV\n",
      "Energy per atom: Epot = 0.169eV  Ekin = 0.024eV (T=188K)  Etot = 0.194eV\n",
      "Energy per atom: Epot = 0.170eV  Ekin = 0.023eV (T=182K)  Etot = 0.193eV\n",
      "Energy per atom: Epot = 0.170eV  Ekin = 0.023eV (T=182K)  Etot = 0.193eV\n",
      "Energy per atom: Epot = 0.169eV  Ekin = 0.024eV (T=189K)  Etot = 0.194eV\n",
      "Energy per atom: Epot = 0.171eV  Ekin = 0.024eV (T=184K)  Etot = 0.195eV\n",
      "Energy per atom: Epot = 0.170eV  Ekin = 0.025eV (T=193K)  Etot = 0.195eV\n",
      "Energy per atom: Epot = 0.175eV  Ekin = 0.020eV (T=156K)  Etot = 0.195eV\n",
      "Energy per atom: Epot = 0.171eV  Ekin = 0.024eV (T=187K)  Etot = 0.195eV\n",
      "Energy per atom: Epot = 0.169eV  Ekin = 0.025eV (T=195K)  Etot = 0.194eV\n",
      "Energy per atom: Epot = 0.169eV  Ekin = 0.024eV (T=188K)  Etot = 0.194eV\n",
      "Energy per atom: Epot = 0.174eV  Ekin = 0.020eV (T=157K)  Etot = 0.194eV\n",
      "Energy per atom: Epot = 0.171eV  Ekin = 0.023eV (T=181K)  Etot = 0.195eV\n",
      "Energy per atom: Epot = 0.169eV  Ekin = 0.025eV (T=197K)  Etot = 0.195eV\n",
      "Energy per atom: Epot = 0.170eV  Ekin = 0.025eV (T=195K)  Etot = 0.195eV\n",
      "Energy per atom: Epot = 0.174eV  Ekin = 0.022eV (T=169K)  Etot = 0.196eV\n",
      "Energy per atom: Epot = 0.171eV  Ekin = 0.025eV (T=191K)  Etot = 0.195eV\n",
      "Energy per atom: Epot = 0.171eV  Ekin = 0.024eV (T=184K)  Etot = 0.195eV\n",
      "Energy per atom: Epot = 0.173eV  Ekin = 0.023eV (T=176K)  Etot = 0.196eV\n",
      "Energy per atom: Epot = 0.171eV  Ekin = 0.024eV (T=187K)  Etot = 0.196eV\n",
      "Energy per atom: Epot = 0.170eV  Ekin = 0.026eV (T=204K)  Etot = 0.196eV\n",
      "Energy per atom: Epot = 0.171eV  Ekin = 0.026eV (T=203K)  Etot = 0.197eV\n",
      "Energy per atom: Epot = 0.173eV  Ekin = 0.023eV (T=177K)  Etot = 0.196eV\n",
      "Energy per atom: Epot = 0.170eV  Ekin = 0.025eV (T=195K)  Etot = 0.195eV\n",
      "Energy per atom: Epot = 0.172eV  Ekin = 0.024eV (T=184K)  Etot = 0.196eV\n",
      "Energy per atom: Epot = 0.170eV  Ekin = 0.026eV (T=202K)  Etot = 0.196eV\n",
      "Energy per atom: Epot = 0.172eV  Ekin = 0.024eV (T=188K)  Etot = 0.197eV\n",
      "Energy per atom: Epot = 0.175eV  Ekin = 0.022eV (T=172K)  Etot = 0.197eV\n",
      "Energy per atom: Epot = 0.173eV  Ekin = 0.024eV (T=183K)  Etot = 0.197eV\n",
      "Energy per atom: Epot = 0.169eV  Ekin = 0.027eV (T=211K)  Etot = 0.197eV\n",
      "Energy per atom: Epot = 0.175eV  Ekin = 0.022eV (T=174K)  Etot = 0.197eV\n",
      "Energy per atom: Epot = 0.170eV  Ekin = 0.028eV (T=214K)  Etot = 0.197eV\n",
      "Energy per atom: Epot = 0.172eV  Ekin = 0.024eV (T=189K)  Etot = 0.197eV\n",
      "Energy per atom: Epot = 0.173eV  Ekin = 0.024eV (T=186K)  Etot = 0.197eV\n",
      "Energy per atom: Epot = 0.170eV  Ekin = 0.028eV (T=214K)  Etot = 0.198eV\n",
      "Energy per atom: Epot = 0.175eV  Ekin = 0.023eV (T=176K)  Etot = 0.197eV\n",
      "Energy per atom: Epot = 0.173eV  Ekin = 0.024eV (T=183K)  Etot = 0.197eV\n",
      "Energy per atom: Epot = 0.172eV  Ekin = 0.025eV (T=191K)  Etot = 0.196eV\n",
      "Energy per atom: Epot = 0.171eV  Ekin = 0.024eV (T=186K)  Etot = 0.195eV\n",
      "Energy per atom: Epot = 0.169eV  Ekin = 0.026eV (T=201K)  Etot = 0.195eV\n",
      "Energy per atom: Epot = 0.172eV  Ekin = 0.022eV (T=174K)  Etot = 0.194eV\n",
      "Energy per atom: Epot = 0.169eV  Ekin = 0.026eV (T=202K)  Etot = 0.195eV\n",
      "Energy per atom: Epot = 0.172eV  Ekin = 0.023eV (T=175K)  Etot = 0.195eV\n",
      "Energy per atom: Epot = 0.170eV  Ekin = 0.025eV (T=193K)  Etot = 0.195eV\n",
      "Energy per atom: Epot = 0.175eV  Ekin = 0.020eV (T=158K)  Etot = 0.195eV\n",
      "Energy per atom: Epot = 0.170eV  Ekin = 0.025eV (T=193K)  Etot = 0.195eV\n",
      "Energy per atom: Epot = 0.172eV  Ekin = 0.022eV (T=172K)  Etot = 0.194eV\n",
      "Energy per atom: Epot = 0.169eV  Ekin = 0.025eV (T=196K)  Etot = 0.194eV\n",
      "Energy per atom: Epot = 0.170eV  Ekin = 0.024eV (T=187K)  Etot = 0.195eV\n",
      "Energy per atom: Epot = 0.170eV  Ekin = 0.024eV (T=189K)  Etot = 0.195eV\n",
      "Energy per atom: Epot = 0.172eV  Ekin = 0.023eV (T=182K)  Etot = 0.195eV\n",
      "Energy per atom: Epot = 0.173eV  Ekin = 0.023eV (T=176K)  Etot = 0.196eV\n",
      "Energy per atom: Epot = 0.170eV  Ekin = 0.026eV (T=202K)  Etot = 0.196eV\n",
      "Energy per atom: Epot = 0.171eV  Ekin = 0.025eV (T=192K)  Etot = 0.196eV\n",
      "Energy per atom: Epot = 0.174eV  Ekin = 0.023eV (T=180K)  Etot = 0.197eV\n",
      "Energy per atom: Epot = 0.173eV  Ekin = 0.023eV (T=179K)  Etot = 0.196eV\n",
      "Energy per atom: Epot = 0.169eV  Ekin = 0.027eV (T=210K)  Etot = 0.196eV\n",
      "Energy per atom: Epot = 0.172eV  Ekin = 0.024eV (T=187K)  Etot = 0.196eV\n",
      "Energy per atom: Epot = 0.171eV  Ekin = 0.026eV (T=197K)  Etot = 0.197eV\n",
      "Energy per atom: Epot = 0.172eV  Ekin = 0.025eV (T=191K)  Etot = 0.196eV\n",
      "Energy per atom: Epot = 0.173eV  Ekin = 0.024eV (T=186K)  Etot = 0.197eV\n",
      "Energy per atom: Epot = 0.168eV  Ekin = 0.029eV (T=221K)  Etot = 0.196eV\n",
      "Energy per atom: Epot = 0.174eV  Ekin = 0.022eV (T=170K)  Etot = 0.196eV\n",
      "Energy per atom: Epot = 0.171eV  Ekin = 0.025eV (T=194K)  Etot = 0.196eV\n",
      "Energy per atom: Epot = 0.174eV  Ekin = 0.022eV (T=169K)  Etot = 0.196eV\n",
      "Energy per atom: Epot = 0.171eV  Ekin = 0.024eV (T=188K)  Etot = 0.196eV\n",
      "Energy per atom: Epot = 0.172eV  Ekin = 0.024eV (T=184K)  Etot = 0.195eV\n",
      "Energy per atom: Epot = 0.172eV  Ekin = 0.025eV (T=192K)  Etot = 0.197eV\n",
      "Energy per atom: Epot = 0.171eV  Ekin = 0.026eV (T=197K)  Etot = 0.196eV\n",
      "Energy per atom: Epot = 0.171eV  Ekin = 0.025eV (T=191K)  Etot = 0.196eV\n",
      "Energy per atom: Epot = 0.169eV  Ekin = 0.027eV (T=208K)  Etot = 0.196eV\n",
      "Energy per atom: Epot = 0.173eV  Ekin = 0.022eV (T=174K)  Etot = 0.196eV\n",
      "Energy per atom: Epot = 0.171eV  Ekin = 0.024eV (T=188K)  Etot = 0.195eV\n",
      "Energy per atom: Epot = 0.173eV  Ekin = 0.021eV (T=164K)  Etot = 0.194eV\n",
      "Energy per atom: Epot = 0.170eV  Ekin = 0.026eV (T=199K)  Etot = 0.196eV\n",
      "Energy per atom: Epot = 0.173eV  Ekin = 0.024eV (T=183K)  Etot = 0.196eV\n",
      "Energy per atom: Epot = 0.170eV  Ekin = 0.026eV (T=203K)  Etot = 0.196eV\n"
     ]
    },
    {
     "data": {
      "text/plain": [
       "True"
      ]
     },
     "execution_count": 9,
     "metadata": {},
     "output_type": "execute_result"
    }
   ],
   "source": [
    "from ase.lattice.cubic import FaceCenteredCubic\n",
    "from ase.md.langevin import Langevin\n",
    "from ase.io.trajectory import Trajectory\n",
    "from ase import units\n",
    "from ase.md.velocitydistribution import (MaxwellBoltzmannDistribution, Stationary)\n",
    "\n",
    "\n",
    "#from asap3 import EMT  # Way too slow with ase.EMT !\n",
    "#size = 2\n",
    "\n",
    "T = 250  # Kelvin\n",
    "slab = read('initial.traj')\n",
    "slab.set_constraint()\n",
    "\n",
    "# Set up a crystal\n",
    "#slab = fcc111('Pt', size=(4, 4, 4))\n",
    "#slab.center(axis=2, vacuum=4.0)\n",
    "#add_adsorbate(slab, 'O', 1.25, 'fcc')\n",
    "#add_adsorbate(slab, 'O', 2.45, 'fcc')\n",
    "\n",
    "# Fix second and third layers:\n",
    "#mask = [atom.tag > 1 for atom in slab]\n",
    "#print(mask)\n",
    "#slab.set_constraint(FixAtoms(mask=mask))\n",
    "# Use EMT potential:\n",
    "slab.set_calculator(EMT())\n",
    "MaxwellBoltzmannDistribution(slab, temperature_K=200)\n",
    "Stationary(slab)  # zero linear momentum\n",
    "\n",
    "\n",
    "\n",
    "\n",
    "\n",
    "# We want to run MD with constant energy using the Langevin algorithm\n",
    "# with a time step of 5 fs, the temperature T and the friction\n",
    "# coefficient to 0.02 atomic units.\n",
    "dyn = Langevin(slab, 5 * units.fs, T * units.kB, 0.002)\n",
    "\n",
    "\n",
    "def printenergy(a=slab):  # store a reference to atoms in the definition.\n",
    "    \"\"\"Function to print the potential, kinetic and total energy.\"\"\"\n",
    "    epot = a.get_potential_energy() / len(a)\n",
    "    ekin = a.get_kinetic_energy() / len(a)\n",
    "    print('Energy per atom: Epot = %.3feV  Ekin = %.3feV (T=%3.0fK)  '\n",
    "          'Etot = %.3feV' % (epot, ekin, ekin / (1.5 * units.kB), epot + ekin))\n",
    "\n",
    "\n",
    "dyn.attach(printenergy, interval=10)\n",
    "\n",
    "# We also want to save the positions of all atoms after every 100th time step.\n",
    "traj = Trajectory('moldyn3.traj', 'w', slab)\n",
    "dyn.attach(traj.write, interval=1)\n",
    "\n",
    "# Now run the dynamics\n",
    "printenergy()\n",
    "dyn.run(1000)"
   ]
  },
  {
   "cell_type": "code",
   "execution_count": 10,
   "metadata": {},
   "outputs": [
    {
     "data": {
      "text/plain": [
       "<subprocess.Popen at 0x7fa3f94b11c0>"
      ]
     },
     "execution_count": 10,
     "metadata": {},
     "output_type": "execute_result"
    }
   ],
   "source": [
    "images = read('moldyn3.traj@-1')\n",
    "view(images)"
   ]
  },
  {
   "cell_type": "code",
   "execution_count": 16,
   "metadata": {},
   "outputs": [
    {
     "name": "stdout",
     "output_type": "stream",
     "text": [
      "                Step[ FC]     Time          Energy          fmax\n",
      "*Force-consistent energies used in optimization.\n",
      "BFGSLineSearch:    0[  0] 12:00:59       14.094135*       6.0758\n",
      "BFGSLineSearch:    1[  1] 12:00:59       11.693203*       4.3197\n",
      "BFGSLineSearch:    2[  2] 12:00:59       11.342202*       2.2029\n",
      "BFGSLineSearch:    3[  3] 12:00:59       11.070537*       2.2595\n",
      "BFGSLineSearch:    4[  5] 12:01:00       10.884476*       0.7209\n",
      "BFGSLineSearch:    5[  7] 12:01:00       10.708614*       0.5448\n",
      "BFGSLineSearch:    6[  8] 12:01:00       10.659513*       0.1838\n",
      "BFGSLineSearch:    7[  9] 12:01:00       10.642989*       0.1103\n",
      "BFGSLineSearch:    8[ 11] 12:01:00       10.639598*       0.0574\n",
      "BFGSLineSearch:    9[ 13] 12:01:00       10.637293*       0.1108\n",
      "BFGSLineSearch:   10[ 15] 12:01:00       10.633583*       0.1774\n",
      "BFGSLineSearch:   11[ 18] 12:01:01       10.622843*       0.5647\n",
      "BFGSLineSearch:   12[ 24] 12:01:01       10.480608*       0.7849\n",
      "BFGSLineSearch:   13[ 26] 12:01:01       10.479431*       0.7913\n",
      "BFGSLineSearch:   14[ 27] 12:01:01       10.410384*       0.4886\n",
      "BFGSLineSearch:   15[ 28] 12:01:01       10.381031*       0.2057\n",
      "BFGSLineSearch:   16[ 29] 12:01:01       10.370232*       0.2913\n",
      "BFGSLineSearch:   17[ 30] 12:01:02       10.357014*       0.2084\n",
      "BFGSLineSearch:   18[ 31] 12:01:02       10.350744*       0.0686\n",
      "BFGSLineSearch:   19[ 32] 12:01:02       10.349809*       0.0248\n",
      "BFGSLineSearch:   20[ 33] 12:01:02       10.349529*       0.0202\n",
      "BFGSLineSearch:   21[ 35] 12:01:02       10.349350*       0.0186\n",
      "BFGSLineSearch:   22[ 37] 12:01:02       10.349106*       0.0125\n",
      "BFGSLineSearch:   23[ 39] 12:01:02       10.349014*       0.0257\n",
      "BFGSLineSearch:   24[ 41] 12:01:02       10.348791*       0.0288\n",
      "BFGSLineSearch:   25[ 44] 12:01:03       10.347757*       0.1334\n",
      "BFGSLineSearch:   26[ 46] 12:01:03       10.347035*       0.2073\n",
      "BFGSLineSearch:   27[ 47] 12:01:03       10.344527*       0.3262\n",
      "BFGSLineSearch:   28[ 50] 12:01:03       10.333720*       0.5526\n",
      "BFGSLineSearch:   29[ 51] 12:01:03       10.310960*       0.2167\n",
      "BFGSLineSearch:   30[ 53] 12:01:03       10.282317*       0.7532\n",
      "BFGSLineSearch:   31[ 56] 12:01:03       10.254761*       0.9816\n",
      "BFGSLineSearch:   32[ 58] 12:01:04       10.215252*       0.2206\n",
      "BFGSLineSearch:   33[ 59] 12:01:04       10.204351*       0.1717\n",
      "BFGSLineSearch:   34[ 61] 12:01:04       10.201162*       0.1440\n",
      "BFGSLineSearch:   35[ 62] 12:01:04       10.196664*       0.1313\n",
      "BFGSLineSearch:   36[ 64] 12:01:04       10.188597*       0.2914\n",
      "BFGSLineSearch:   37[ 66] 12:01:04       10.167207*       0.2480\n",
      "BFGSLineSearch:   38[ 73] 12:01:05       10.068372*       1.1099\n",
      "BFGSLineSearch:   39[ 75] 12:01:05       10.062281*       0.9052\n",
      "BFGSLineSearch:   40[ 76] 12:01:05        9.963987*       0.9150\n",
      "BFGSLineSearch:   41[ 77] 12:01:05        9.788746*       0.3875\n",
      "BFGSLineSearch:   42[ 79] 12:01:05        9.701177*       0.3758\n",
      "BFGSLineSearch:   43[ 81] 12:01:05        9.670120*       0.2729\n",
      "BFGSLineSearch:   44[ 83] 12:01:05        9.640225*       0.2020\n",
      "BFGSLineSearch:   45[ 84] 12:01:05        9.627772*       0.1228\n",
      "BFGSLineSearch:   46[ 85] 12:01:06        9.620962*       0.0771\n",
      "BFGSLineSearch:   47[ 86] 12:01:06        9.616178*       0.0952\n",
      "BFGSLineSearch:   48[ 88] 12:01:06        9.611624*       0.1453\n",
      "BFGSLineSearch:   49[ 90] 12:01:06        9.603402*       0.1126\n",
      "BFGSLineSearch:   50[ 92] 12:01:06        9.595682*       0.1276\n",
      "BFGSLineSearch:   51[ 93] 12:01:06        9.591771*       0.0508\n",
      "BFGSLineSearch:   52[ 94] 12:01:06        9.590073*       0.0423\n",
      "BFGSLineSearch:   53[ 95] 12:01:06        9.589661*       0.0225\n",
      "BFGSLineSearch:   54[ 96] 12:01:06        9.589465*       0.0178\n",
      "BFGSLineSearch:   55[ 98] 12:01:07        9.589357*       0.0124\n",
      "BFGSLineSearch:   56[100] 12:01:07        9.589252*       0.0083\n",
      "Atoms(symbols='CO3Pt64', pbc=[True, True, False], cell=[[11.087434329005065, 0.0, 0.0], [5.5437171645025325, 9.601999791710057, 0.0], [0.0, 0.0, 14.78963916567]], tags=..., constraint=FixAtoms(indices=[0, 1, 2, 3, 4, 5, 6, 7, 8, 9, 10, 11, 12, 13, 14, 15, 16, 17, 18, 19, 20, 21, 22, 23, 24, 25, 26, 27, 28, 29, 30, 31, 32, 33, 34, 35, 36, 37, 38, 39, 40, 41, 42, 43, 44, 45, 46, 47]), calculator=EMT(...))\n"
     ]
    }
   ],
   "source": [
    "slab = fcc111('Pt', size=(4, 4, 4))\n",
    "slab.center(axis=2, vacuum=4.0)\n",
    "add_adsorbate(slab, 'O', 1.25, 'fcc')\n",
    "add_adsorbate(slab, 'O', 2.45, 'fcc')\n",
    "add_adsorbate(slab, 'C', 1.25, position=(9.5,5.5))\n",
    "add_adsorbate(slab, 'O', 2.25, position=(9.5,5.5))\n",
    "\n",
    "\n",
    "\n",
    "\n",
    "# Fix second and third layers:\n",
    "mask = [atom.tag > 1 for atom in slab]\n",
    "#print(mask)\n",
    "slab.set_constraint(FixAtoms(mask=mask))\n",
    "# Use EMT potential:\n",
    "slab.set_calculator(EMT())\n",
    "\n",
    "# Initial state:\n",
    "qn = QuasiNewton(slab, trajectory='initial.traj')\n",
    "qn.run(fmax=0.01)\n",
    "view(slab)\n",
    "print(slab)"
   ]
  },
  {
   "cell_type": "code",
   "execution_count": 17,
   "metadata": {},
   "outputs": [
    {
     "name": "stdout",
     "output_type": "stream",
     "text": [
      "Energy per atom: Epot = 0.141eV  Ekin = 0.025eV (T=197K)  Etot = 0.166eV\n",
      "Energy per atom: Epot = 0.141eV  Ekin = 0.025eV (T=197K)  Etot = 0.166eV\n",
      "Energy per atom: Epot = 0.154eV  Ekin = 0.013eV (T=101K)  Etot = 0.167eV\n",
      "Energy per atom: Epot = 0.158eV  Ekin = 0.010eV (T= 79K)  Etot = 0.168eV\n",
      "Energy per atom: Epot = 0.154eV  Ekin = 0.013eV (T=101K)  Etot = 0.168eV\n",
      "Energy per atom: Epot = 0.152eV  Ekin = 0.016eV (T=124K)  Etot = 0.168eV\n",
      "Energy per atom: Epot = 0.153eV  Ekin = 0.016eV (T=124K)  Etot = 0.169eV\n",
      "Energy per atom: Epot = 0.154eV  Ekin = 0.015eV (T=116K)  Etot = 0.169eV\n",
      "Energy per atom: Epot = 0.152eV  Ekin = 0.017eV (T=129K)  Etot = 0.168eV\n",
      "Energy per atom: Epot = 0.153eV  Ekin = 0.016eV (T=122K)  Etot = 0.169eV\n",
      "Energy per atom: Epot = 0.155eV  Ekin = 0.014eV (T=112K)  Etot = 0.169eV\n",
      "Energy per atom: Epot = 0.156eV  Ekin = 0.013eV (T=101K)  Etot = 0.169eV\n",
      "Energy per atom: Epot = 0.151eV  Ekin = 0.019eV (T=145K)  Etot = 0.170eV\n",
      "Energy per atom: Epot = 0.155eV  Ekin = 0.015eV (T=118K)  Etot = 0.170eV\n",
      "Energy per atom: Epot = 0.155eV  Ekin = 0.015eV (T=116K)  Etot = 0.170eV\n",
      "Energy per atom: Epot = 0.154eV  Ekin = 0.016eV (T=123K)  Etot = 0.170eV\n",
      "Energy per atom: Epot = 0.153eV  Ekin = 0.017eV (T=134K)  Etot = 0.170eV\n",
      "Energy per atom: Epot = 0.151eV  Ekin = 0.019eV (T=150K)  Etot = 0.171eV\n",
      "Energy per atom: Epot = 0.159eV  Ekin = 0.013eV (T= 97K)  Etot = 0.172eV\n",
      "Energy per atom: Epot = 0.156eV  Ekin = 0.016eV (T=126K)  Etot = 0.172eV\n",
      "Energy per atom: Epot = 0.155eV  Ekin = 0.018eV (T=137K)  Etot = 0.172eV\n",
      "Energy per atom: Epot = 0.153eV  Ekin = 0.019eV (T=145K)  Etot = 0.172eV\n",
      "Energy per atom: Epot = 0.155eV  Ekin = 0.017eV (T=130K)  Etot = 0.172eV\n",
      "Energy per atom: Epot = 0.156eV  Ekin = 0.017eV (T=128K)  Etot = 0.173eV\n",
      "Energy per atom: Epot = 0.156eV  Ekin = 0.018eV (T=141K)  Etot = 0.174eV\n",
      "Energy per atom: Epot = 0.158eV  Ekin = 0.016eV (T=126K)  Etot = 0.174eV\n",
      "Energy per atom: Epot = 0.154eV  Ekin = 0.021eV (T=159K)  Etot = 0.174eV\n",
      "Energy per atom: Epot = 0.155eV  Ekin = 0.020eV (T=158K)  Etot = 0.176eV\n",
      "Energy per atom: Epot = 0.156eV  Ekin = 0.019eV (T=149K)  Etot = 0.176eV\n",
      "Energy per atom: Epot = 0.160eV  Ekin = 0.015eV (T=120K)  Etot = 0.176eV\n",
      "Energy per atom: Epot = 0.158eV  Ekin = 0.018eV (T=140K)  Etot = 0.176eV\n",
      "Energy per atom: Epot = 0.156eV  Ekin = 0.020eV (T=154K)  Etot = 0.176eV\n",
      "Energy per atom: Epot = 0.157eV  Ekin = 0.019eV (T=151K)  Etot = 0.176eV\n",
      "Energy per atom: Epot = 0.157eV  Ekin = 0.020eV (T=153K)  Etot = 0.177eV\n",
      "Energy per atom: Epot = 0.157eV  Ekin = 0.020eV (T=155K)  Etot = 0.177eV\n",
      "Energy per atom: Epot = 0.157eV  Ekin = 0.020eV (T=155K)  Etot = 0.177eV\n",
      "Energy per atom: Epot = 0.161eV  Ekin = 0.017eV (T=128K)  Etot = 0.177eV\n",
      "Energy per atom: Epot = 0.158eV  Ekin = 0.020eV (T=151K)  Etot = 0.178eV\n",
      "Energy per atom: Epot = 0.157eV  Ekin = 0.021eV (T=163K)  Etot = 0.178eV\n",
      "Energy per atom: Epot = 0.157eV  Ekin = 0.021eV (T=163K)  Etot = 0.178eV\n",
      "Energy per atom: Epot = 0.160eV  Ekin = 0.018eV (T=139K)  Etot = 0.178eV\n",
      "Energy per atom: Epot = 0.155eV  Ekin = 0.023eV (T=181K)  Etot = 0.179eV\n",
      "Energy per atom: Epot = 0.159eV  Ekin = 0.021eV (T=165K)  Etot = 0.180eV\n",
      "Energy per atom: Epot = 0.160eV  Ekin = 0.020eV (T=156K)  Etot = 0.180eV\n",
      "Energy per atom: Epot = 0.161eV  Ekin = 0.019eV (T=144K)  Etot = 0.179eV\n",
      "Energy per atom: Epot = 0.161eV  Ekin = 0.019eV (T=143K)  Etot = 0.180eV\n",
      "Energy per atom: Epot = 0.159eV  Ekin = 0.021eV (T=166K)  Etot = 0.180eV\n",
      "Energy per atom: Epot = 0.158eV  Ekin = 0.023eV (T=179K)  Etot = 0.181eV\n",
      "Energy per atom: Epot = 0.156eV  Ekin = 0.025eV (T=190K)  Etot = 0.181eV\n",
      "Energy per atom: Epot = 0.164eV  Ekin = 0.017eV (T=132K)  Etot = 0.181eV\n",
      "Energy per atom: Epot = 0.161eV  Ekin = 0.021eV (T=163K)  Etot = 0.182eV\n",
      "Energy per atom: Epot = 0.161eV  Ekin = 0.021eV (T=161K)  Etot = 0.182eV\n",
      "Energy per atom: Epot = 0.158eV  Ekin = 0.025eV (T=197K)  Etot = 0.183eV\n",
      "Energy per atom: Epot = 0.160eV  Ekin = 0.023eV (T=179K)  Etot = 0.183eV\n",
      "Energy per atom: Epot = 0.161eV  Ekin = 0.023eV (T=179K)  Etot = 0.184eV\n",
      "Energy per atom: Epot = 0.164eV  Ekin = 0.021eV (T=159K)  Etot = 0.184eV\n",
      "Energy per atom: Epot = 0.160eV  Ekin = 0.024eV (T=185K)  Etot = 0.184eV\n",
      "Energy per atom: Epot = 0.160eV  Ekin = 0.024eV (T=184K)  Etot = 0.184eV\n",
      "Energy per atom: Epot = 0.163eV  Ekin = 0.021eV (T=162K)  Etot = 0.183eV\n",
      "Energy per atom: Epot = 0.159eV  Ekin = 0.023eV (T=182K)  Etot = 0.183eV\n",
      "Energy per atom: Epot = 0.163eV  Ekin = 0.021eV (T=159K)  Etot = 0.183eV\n",
      "Energy per atom: Epot = 0.163eV  Ekin = 0.020eV (T=158K)  Etot = 0.183eV\n",
      "Energy per atom: Epot = 0.161eV  Ekin = 0.021eV (T=165K)  Etot = 0.182eV\n",
      "Energy per atom: Epot = 0.158eV  Ekin = 0.025eV (T=196K)  Etot = 0.183eV\n",
      "Energy per atom: Epot = 0.158eV  Ekin = 0.025eV (T=194K)  Etot = 0.183eV\n",
      "Energy per atom: Epot = 0.163eV  Ekin = 0.020eV (T=152K)  Etot = 0.183eV\n",
      "Energy per atom: Epot = 0.162eV  Ekin = 0.021eV (T=163K)  Etot = 0.183eV\n",
      "Energy per atom: Epot = 0.158eV  Ekin = 0.025eV (T=194K)  Etot = 0.183eV\n",
      "Energy per atom: Epot = 0.159eV  Ekin = 0.024eV (T=185K)  Etot = 0.183eV\n",
      "Energy per atom: Epot = 0.165eV  Ekin = 0.018eV (T=137K)  Etot = 0.182eV\n",
      "Energy per atom: Epot = 0.161eV  Ekin = 0.022eV (T=168K)  Etot = 0.183eV\n",
      "Energy per atom: Epot = 0.160eV  Ekin = 0.023eV (T=181K)  Etot = 0.183eV\n",
      "Energy per atom: Epot = 0.159eV  Ekin = 0.023eV (T=181K)  Etot = 0.182eV\n",
      "Energy per atom: Epot = 0.160eV  Ekin = 0.022eV (T=173K)  Etot = 0.182eV\n",
      "Energy per atom: Epot = 0.160eV  Ekin = 0.022eV (T=170K)  Etot = 0.182eV\n",
      "Energy per atom: Epot = 0.161eV  Ekin = 0.021eV (T=160K)  Etot = 0.182eV\n",
      "Energy per atom: Epot = 0.163eV  Ekin = 0.019eV (T=146K)  Etot = 0.182eV\n",
      "Energy per atom: Epot = 0.160eV  Ekin = 0.022eV (T=173K)  Etot = 0.182eV\n",
      "Energy per atom: Epot = 0.159eV  Ekin = 0.023eV (T=176K)  Etot = 0.182eV\n",
      "Energy per atom: Epot = 0.158eV  Ekin = 0.024eV (T=186K)  Etot = 0.182eV\n",
      "Energy per atom: Epot = 0.161eV  Ekin = 0.021eV (T=160K)  Etot = 0.182eV\n",
      "Energy per atom: Epot = 0.161eV  Ekin = 0.022eV (T=170K)  Etot = 0.183eV\n",
      "Energy per atom: Epot = 0.161eV  Ekin = 0.021eV (T=165K)  Etot = 0.182eV\n",
      "Energy per atom: Epot = 0.160eV  Ekin = 0.022eV (T=171K)  Etot = 0.182eV\n",
      "Energy per atom: Epot = 0.159eV  Ekin = 0.023eV (T=177K)  Etot = 0.182eV\n",
      "Energy per atom: Epot = 0.164eV  Ekin = 0.019eV (T=144K)  Etot = 0.183eV\n",
      "Energy per atom: Epot = 0.158eV  Ekin = 0.024eV (T=187K)  Etot = 0.182eV\n",
      "Energy per atom: Epot = 0.162eV  Ekin = 0.021eV (T=161K)  Etot = 0.182eV\n",
      "Energy per atom: Epot = 0.158eV  Ekin = 0.025eV (T=196K)  Etot = 0.183eV\n",
      "Energy per atom: Epot = 0.164eV  Ekin = 0.019eV (T=147K)  Etot = 0.183eV\n",
      "Energy per atom: Epot = 0.161eV  Ekin = 0.023eV (T=176K)  Etot = 0.184eV\n",
      "Energy per atom: Epot = 0.161eV  Ekin = 0.022eV (T=170K)  Etot = 0.183eV\n",
      "Energy per atom: Epot = 0.160eV  Ekin = 0.024eV (T=187K)  Etot = 0.184eV\n",
      "Energy per atom: Epot = 0.159eV  Ekin = 0.025eV (T=193K)  Etot = 0.184eV\n",
      "Energy per atom: Epot = 0.164eV  Ekin = 0.021eV (T=162K)  Etot = 0.185eV\n",
      "Energy per atom: Epot = 0.161eV  Ekin = 0.024eV (T=187K)  Etot = 0.185eV\n",
      "Energy per atom: Epot = 0.165eV  Ekin = 0.020eV (T=154K)  Etot = 0.185eV\n",
      "Energy per atom: Epot = 0.162eV  Ekin = 0.024eV (T=182K)  Etot = 0.186eV\n",
      "Energy per atom: Epot = 0.161eV  Ekin = 0.024eV (T=187K)  Etot = 0.186eV\n",
      "Energy per atom: Epot = 0.160eV  Ekin = 0.026eV (T=201K)  Etot = 0.186eV\n",
      "Energy per atom: Epot = 0.163eV  Ekin = 0.024eV (T=187K)  Etot = 0.187eV\n",
      "Energy per atom: Epot = 0.164eV  Ekin = 0.024eV (T=182K)  Etot = 0.188eV\n"
     ]
    },
    {
     "data": {
      "text/plain": [
       "True"
      ]
     },
     "execution_count": 17,
     "metadata": {},
     "output_type": "execute_result"
    }
   ],
   "source": [
    "T = 250  # Kelvin\n",
    "slab = read('initial.traj')\n",
    "slab.set_constraint()\n",
    "\n",
    "# Set up a crystal\n",
    "#slab = fcc111('Pt', size=(4, 4, 4))\n",
    "#slab.center(axis=2, vacuum=4.0)\n",
    "#add_adsorbate(slab, 'O', 1.25, 'fcc')\n",
    "#add_adsorbate(slab, 'O', 2.45, 'fcc')\n",
    "\n",
    "# Fix second and third layers:\n",
    "#mask = [atom.tag > 1 for atom in slab]\n",
    "#print(mask)\n",
    "#slab.set_constraint(FixAtoms(mask=mask))\n",
    "# Use EMT potential:\n",
    "slab.set_calculator(EMT())\n",
    "MaxwellBoltzmannDistribution(slab, temperature_K=200)\n",
    "Stationary(slab)  # zero linear momentum\n",
    "\n",
    "\n",
    "\n",
    "\n",
    "\n",
    "# We want to run MD with constant energy using the Langevin algorithm\n",
    "# with a time step of 5 fs, the temperature T and the friction\n",
    "# coefficient to 0.02 atomic units.\n",
    "dyn = Langevin(slab, 5 * units.fs, T * units.kB, 0.002)\n",
    "\n",
    "\n",
    "def printenergy(a=slab):  # store a reference to atoms in the definition.\n",
    "    \"\"\"Function to print the potential, kinetic and total energy.\"\"\"\n",
    "    epot = a.get_potential_energy() / len(a)\n",
    "    ekin = a.get_kinetic_energy() / len(a)\n",
    "    print('Energy per atom: Epot = %.3feV  Ekin = %.3feV (T=%3.0fK)  '\n",
    "          'Etot = %.3feV' % (epot, ekin, ekin / (1.5 * units.kB), epot + ekin))\n",
    "\n",
    "\n",
    "dyn.attach(printenergy, interval=10)\n",
    "\n",
    "# We also want to save the positions of all atoms after every 100th time step.\n",
    "traj = Trajectory('moldyn3.traj', 'w', slab)\n",
    "dyn.attach(traj.write, interval=1)\n",
    "\n",
    "# Now run the dynamics\n",
    "printenergy()\n",
    "dyn.run(1000)"
   ]
  },
  {
   "cell_type": "code",
   "execution_count": 18,
   "metadata": {},
   "outputs": [
    {
     "data": {
      "text/plain": [
       "<subprocess.Popen at 0x7fa4284298b0>"
      ]
     },
     "execution_count": 18,
     "metadata": {},
     "output_type": "execute_result"
    }
   ],
   "source": [
    "images = read('moldyn3.traj@-1')\n",
    "view(images)"
   ]
  },
  {
   "cell_type": "code",
   "execution_count": null,
   "metadata": {},
   "outputs": [],
   "source": []
  }
 ],
 "metadata": {
  "kernelspec": {
   "display_name": "Python 3",
   "language": "python",
   "name": "python3"
  },
  "language_info": {
   "codemirror_mode": {
    "name": "ipython",
    "version": 3
   },
   "file_extension": ".py",
   "mimetype": "text/x-python",
   "name": "python",
   "nbconvert_exporter": "python",
   "pygments_lexer": "ipython3",
   "version": "3.8.3"
  }
 },
 "nbformat": 4,
 "nbformat_minor": 2
}
